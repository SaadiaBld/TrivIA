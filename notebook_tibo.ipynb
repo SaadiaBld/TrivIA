{
 "cells": [
  {
   "cell_type": "code",
   "execution_count": null,
   "metadata": {},
   "outputs": [],
   "source": [
    "grid = 0\n",
    "\n",
    "\n",
    "class Grid():\n",
    "\n",
    "    def __init__(self, largeur, hauteur):\n",
    "        self.largeur = largeur\n",
    "        self.hauteur = hauteur\n",
    "\n",
    "    def assign_category(case, category):\n",
    "        for cell in grid:\n",
    "            # APPLIQUER UNE COULEUR RANDOM A CHAQUE CASE (COULEUR CORRESPONDANT AUX CATEGORIES)"
   ]
  },
  {
   "cell_type": "code",
   "execution_count": null,
   "metadata": {},
   "outputs": [],
   "source": []
  }
 ],
 "metadata": {
  "language_info": {
   "name": "python"
  }
 },
 "nbformat": 4,
 "nbformat_minor": 2
}
