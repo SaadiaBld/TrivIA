{
 "cells": [
  {
   "cell_type": "code",
   "execution_count": 233,
   "metadata": {},
   "outputs": [
    {
     "ename": "SyntaxError",
     "evalue": "incomplete input (4148019510.py, line 12)",
     "output_type": "error",
     "traceback": [
      "\u001b[0;36m  Cell \u001b[0;32mIn[233], line 12\u001b[0;36m\u001b[0m\n\u001b[0;31m    # APPLIQUER UNE COULEUR RANDOM A CHAQUE CASE (COULEUR CORRESPONDANT AUX CATEGORIES)\u001b[0m\n\u001b[0m                                                                                       ^\u001b[0m\n\u001b[0;31mSyntaxError\u001b[0m\u001b[0;31m:\u001b[0m incomplete input\n"
     ]
    }
   ],
   "source": [
    "grid = 0\n",
    "\n",
    "\n",
    "class Grid():\n",
    "\n",
    "    def __init__(self, largeur, hauteur):\n",
    "        self.largeur = largeur\n",
    "        self.hauteur = hauteur\n",
    "\n",
    "    def assign_category(case, category):\n",
    "        for cell in grid:\n",
    "            # APPLIQUER UNE COULEUR RANDOM A CHAQUE CASE (COULEUR CORRESPONDANT AUX CATEGORIES)"
   ]
  },
  {
   "cell_type": "code",
   "execution_count": null,
   "metadata": {},
   "outputs": [
    {
     "name": "stdout",
     "output_type": "stream",
     "text": [
      "Defaulting to user installation because normal site-packages is not writeable\n",
      "Collecting numpy\n",
      "  Downloading numpy-1.26.2-cp311-cp311-manylinux_2_17_x86_64.manylinux2014_x86_64.whl (18.2 MB)\n",
      "\u001b[2K     \u001b[38;2;114;156;31m━━━━━━━━━━━━━━━━━━━━━━━━━━━━━━━━━━━━━━━━\u001b[0m \u001b[32m18.2/18.2 MB\u001b[0m \u001b[31m9.8 MB/s\u001b[0m eta \u001b[36m0:00:00\u001b[0m0m eta \u001b[36m0:00:01\u001b[0m[36m0:00:01\u001b[0m\n",
      "\u001b[?25hInstalling collected packages: numpy\n",
      "Successfully installed numpy-1.26.2\n",
      "Note: you may need to restart the kernel to use updated packages.\n"
     ]
    }
   ],
   "source": [
    "pip install numpy"
   ]
  },
  {
   "cell_type": "code",
   "execution_count": 262,
   "metadata": {},
   "outputs": [
    {
     "name": "stdout",
     "output_type": "stream",
     "text": [
      "['1', '2', '3', '4', '5', '6', '7', '8', '9', '10', '11']\n",
      "['2', 0, 0, 0, 0, '2', 0, 0, 0, 0, '2']\n",
      "['3', 0, 0, 0, 0, '3', 0, 0, 0, 0, '3']\n",
      "['4', 0, 0, 0, 0, '4', 0, 0, 0, 0, '4']\n",
      "['5', 0, 0, 0, 0, '5', 0, 0, 0, 0, '5']\n",
      "['1', '2', '3', '4', '5', '6', '7', '8', '9', '10', '11']\n",
      "['7', 0, 0, 0, 0, '7', 0, 0, 0, 0, '7']\n",
      "['8', 0, 0, 0, 0, '8', 0, 0, 0, 0, '8']\n",
      "['9', 0, 0, 0, 0, '9', 0, 0, 0, 0, '9']\n",
      "['10', 0, 0, 0, 0, '10', 0, 0, 0, 0, '10']\n",
      "['1', '2', '3', '4', '5', '6', '7', '8', '9', '10', '11']\n"
     ]
    }
   ],
   "source": [
    "# création des lignes (avec des nombres de 1 à 11)\n",
    "row = [str(i+1) for i in range(0, 11)]\n",
    "\n",
    "# création de la grille (ajout de colonnes)\n",
    "# Remove unnecessary string manipulation\n",
    "grid = [list(row) for j in range(0, 11)]\n",
    "\n",
    "\n",
    "\n",
    "\n",
    "# ajouter valeurs 0 \"False\" sur lesquelles on ne peut pas jouer\n",
    "for i in range(1,10): # ce range = columns\n",
    "    for index in range(1,5):\n",
    "        grid[i][index] = 0\n",
    "    for index in range(6, 10):\n",
    "        grid[i][index] = 0\n",
    "\n",
    "\n",
    "grid[5]\n",
    "\n",
    "\n",
    "\n",
    "# dictionnaire des catégories, première lettre de chaque categ (il faudra leur attribuer des couleurs)\n",
    "categories = {1: \"P\", 2: \"S\", 3: \"G\", 4: \"T\", 5: \"A\", 6: \"M\", 7: \"A\", 8: \"T\", 9: \"G\", 10: \"S\", 11: \"P\"}\n",
    "\n",
    "\n",
    "\n",
    "\n",
    "for row in grid:\n",
    "    for index in range(len(row)):\n",
    "        if row[index] in categories:\n",
    "            row[index] = categories[row[index]]\n",
    "\n",
    "for row_index in range(1, len(grid) - 1):\n",
    "    grid[row_index][0] = str(row_index + 1)\n",
    "    grid[row_index][-1] = str(row_index + 1)\n",
    "    grid[row_index][5] = str(row_index + 1)\n",
    "\n",
    "grid[5] = grid[0]\n",
    "\n",
    "# Print the modified grid\n",
    "for row in grid:\n",
    "    print(row)\n",
    "    "
   ]
  },
  {
   "cell_type": "code",
   "execution_count": null,
   "metadata": {},
   "outputs": [],
   "source": []
  },
  {
   "cell_type": "code",
   "execution_count": 260,
   "metadata": {},
   "outputs": [
    {
     "data": {
      "text/plain": [
       "['1', '2', '3', '4', '5', '6', '7', '8', '9', '10', '11']"
      ]
     },
     "execution_count": 260,
     "metadata": {},
     "output_type": "execute_result"
    }
   ],
   "source": [
    "grid[5] = grid[0]\n",
    "grid[5]"
   ]
  },
  {
   "cell_type": "markdown",
   "metadata": {},
   "source": []
  },
  {
   "cell_type": "code",
   "execution_count": null,
   "metadata": {},
   "outputs": [
    {
     "data": {
      "text/plain": [
       "False"
      ]
     },
     "execution_count": 154,
     "metadata": {},
     "output_type": "execute_result"
    }
   ],
   "source": [
    "  "
   ]
  },
  {
   "cell_type": "code",
   "execution_count": null,
   "metadata": {},
   "outputs": [],
   "source": []
  }
 ],
 "metadata": {
  "kernelspec": {
   "display_name": "Python 3",
   "language": "python",
   "name": "python3"
  },
  "language_info": {
   "codemirror_mode": {
    "name": "ipython",
    "version": 3
   },
   "file_extension": ".py",
   "mimetype": "text/x-python",
   "name": "python",
   "nbconvert_exporter": "python",
   "pygments_lexer": "ipython3",
   "version": "3.11.0rc1"
  }
 },
 "nbformat": 4,
 "nbformat_minor": 2
}
