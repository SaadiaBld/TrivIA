{
  "cells": [
    {
      "cell_type": "code",
      "execution_count": null,
      "metadata": {},
      "outputs": [
        {
          "name": "stdout",
          "output_type": "stream",
          "text": [
            "Defaulting to user installation because normal site-packages is not writeable\n",
            "Collecting numpy\n",
            "  Downloading numpy-1.26.2-cp311-cp311-manylinux_2_17_x86_64.manylinux2014_x86_64.whl (18.2 MB)\n",
            "\u001b[2K     \u001b[38;2;114;156;31m━━━━━━━━━━━━━━━━━━━━━━━━━━━━━━━━━━━━━━━━\u001b[0m \u001b[32m18.2/18.2 MB\u001b[0m \u001b[31m9.8 MB/s\u001b[0m eta \u001b[36m0:00:00\u001b[0m0m eta \u001b[36m0:00:01\u001b[0m[36m0:00:01\u001b[0m\n",
            "\u001b[?25hInstalling collected packages: numpy\n",
            "Successfully installed numpy-1.26.2\n",
            "Note: you may need to restart the kernel to use updated packages.\n"
          ]
        }
      ],
      "source": [
        "pip install numpy"
      ]
    },
    {
      "cell_type": "code",
      "execution_count": 67,
      "metadata": {},
      "outputs": [
        {
          "name": "stdout",
          "output_type": "stream",
          "text": [
            "🟩🟪🟨🟥🟦⬜️🟦🟥🟨🟪🟩\n",
            "🟪⬛️⬛️⬛️⬛️🟪⬛️⬛️⬛️⬛️🟪\n",
            "🟨⬛️⬛️⬛️⬛️🟨⬛️⬛️⬛️⬛️🟨\n",
            "🟥⬛️⬛️⬛️⬛️🟥⬛️⬛️⬛️⬛️🟥\n",
            "🟦⬛️⬛️⬛️⬛️🟦⬛️⬛️⬛️⬛️🟦\n",
            "🟩🟪🟨🟥🟦⬜️🟦🟥🟨🟪🟩\n",
            "🟦⬛️⬛️⬛️⬛️🟦⬛️⬛️⬛️⬛️🟦\n",
            "🟥⬛️⬛️⬛️⬛️🟥⬛️⬛️⬛️⬛️🟥\n",
            "🟨⬛️⬛️⬛️⬛️🟨⬛️⬛️⬛️⬛️🟨\n",
            "🟪⬛️⬛️⬛️⬛️🟪⬛️⬛️⬛️⬛️🟪\n",
            "🟩🟪🟨🟥🟦⬜️🟦🟥🟨🟪🟩\n"
          ]
        }
      ],
      "source": [
        "class Grid():\n",
        "\n",
        "    def __init__(self, width, height):\n",
        "        self.width = width\n",
        "        self.height = height\n",
        "        \n",
        "\n",
        "    def create_boardgame(self):\n",
        "\n",
        "        # création des lignes (avec des nombres de 1 à 11)\n",
        "        row = [str(i+1) for i in range(0, self.width+1)]\n",
        "\n",
        "\n",
        "        # création de la grille (ajout de colonnes)\n",
        "        # Remove unnecessary string manipulation\n",
        "        grid = [list(row) for j in range(0, self.height+1)]\n",
        "\n",
        "\n",
        "        # ajouter valeurs 0 \"False\" sur lesquelles on ne peut pas jouer\n",
        "        for i in range(1,10): # ce range = columns\n",
        "            for index in range(1,5):\n",
        "                grid[i][index] = \"0\"\n",
        "            for index in range(6, 10):\n",
        "                grid[i][index] = \"0\"\n",
        "\n",
        "        # dictionnaire des catégories, première lettre de chaque categ (il faudra leur attribuer des couleurs)\n",
        "        categories = {1: \"P\", 2: \"S\", 3: \"G\", 4: \"T\", 5: \"A\", 6: \"M\", 7: \"A\", 8: \"T\", 9: \"G\", 10: \"S\", 11: \"P\"}\n",
        "\n",
        "        for row in grid:\n",
        "            for index in range(len(row)):\n",
        "                if row[index] in categories:\n",
        "                    row[index] = categories[row[index]]\n",
        "\n",
        "\n",
        "        for row_index in range(1, len(grid) - 1):\n",
        "            grid[row_index][0] = str(row_index + 1)\n",
        "            grid[row_index][-1] = str(row_index + 1)\n",
        "            grid[row_index][5] = str(row_index + 1)\n",
        "\n",
        "\n",
        "        #modifier la ligne du milieu de la grille\n",
        "        grid[5] = grid[0]\n",
        "\n",
        "        for row_index in range(len(grid)):\n",
        "            for col_index in range(len(grid[row_index])):\n",
        "                if grid[row_index][col_index] == \"1\" or grid[row_index][col_index] == \"11\":\n",
        "                    grid[row_index][col_index] = '🟩'\n",
        "                elif grid[row_index][col_index] == \"2\" or grid[row_index][col_index] == \"10\":\n",
        "                    grid[row_index][col_index] = '🟪'\n",
        "                elif grid[row_index][col_index] == \"3\" or grid[row_index][col_index] == \"9\":\n",
        "                    grid[row_index][col_index] = '🟨'\n",
        "                elif grid[row_index][col_index] == \"4\" or grid[row_index][col_index] == \"8\":\n",
        "                    grid[row_index][col_index] = '🟥'\n",
        "                elif grid[row_index][col_index] == \"5\" or grid[row_index][col_index] == \"7\":\n",
        "                    grid[row_index][col_index] = '🟦'\n",
        "                elif grid[row_index][col_index] == \"6\":\n",
        "                    grid[row_index][col_index] = '⬜️'\n",
        "                elif grid[row_index][col_index] == \"0\":\n",
        "                    grid[row_index][col_index] = '⬛️'\n",
        "\n",
        "        # Print the modified grid\n",
        "        for row in grid:\n",
        "            #print(row)\n",
        "            print(\"\".join(row))\n",
        "        \n",
        "\n",
        "grille = Grid(10,10) #taille maximale pour le moment, il faut optimiser la taille dans la méthode de la classe Grid\n",
        "grille.create_boardgame()"
      ]
    },
    {
      "cell_type": "code",
      "execution_count": 41,
      "metadata": {},
      "outputs": [],
      "source": [
        "# # Création des lignes (avec des nombres de 1 à 11)\n",
        "# row = [str(i + 1) for i in range(0, 11)]\n",
        "\n",
        "# # Création de la grille (ajout de colonnes)\n",
        "# grid = [list(row) for j in range(0, 11)]\n",
        "\n",
        "# # Ajouter valeurs 0 \"False\" sur lesquelles on ne peut pas jouer\n",
        "# for i in range(1, 10):  # Cette plage = colonnes\n",
        "#     for index in range(1, 5):\n",
        "#         grid[i][index] = \"0\"\n",
        "#     for index in range(6, 10):\n",
        "#         grid[i][index] = \"0\"\n",
        "\n",
        "# # Dictionnaire des catégories, première lettre de chaque catégorie (il faudra leur attribuer des couleurs)\n",
        "# categories = {'🟩': \"P\", 2: \"S\", 3: \"G\", 4: \"T\", 5: \"A\", 6: \"M\", 7: \"A\", 8: \"T\", 9: \"G\", 10: \"S\", 11: \"P\"}\n",
        "\n",
        "# # Appliquer les catégories à la grille\n",
        "# for row in grid:\n",
        "#     for index in range(len(row)):\n",
        "#         if row[index] in categories:\n",
        "#             row[index] = categories[row[index]]\n",
        "\n",
        "# # Modifier les premières et dernières valeurs de chaque ligne\n",
        "# for row_index in range(1, len(grid) - 1):\n",
        "#     grid[row_index][0] = str(row_index)\n",
        "#     grid[row_index][-1] = str(row_index)\n",
        "#     grid[row_index][5] = str(row_index)\n",
        "\n",
        "# # Modifier la ligne du milieu de la grille en créant une nouvelle liste\n",
        "# grid[5] = list(grid[0])\n",
        "\n",
        "# # Print the modified grid\n",
        "# for row in grid:\n",
        "#     print(row)\n"
      ]
    }
  ],
  "metadata": {
    "kernelspec": {
      "display_name": "Python 3",
      "language": "python",
      "name": "python3"
    },
    "language_info": {
      "codemirror_mode": {
        "name": "ipython",
        "version": 3
      },
      "file_extension": ".py",
      "mimetype": "text/x-python",
      "name": "python",
      "nbconvert_exporter": "python",
      "pygments_lexer": "ipython3",
      "version": "3.11.0rc1"
    }
  },
  "nbformat": 4,
  "nbformat_minor": 2
}
