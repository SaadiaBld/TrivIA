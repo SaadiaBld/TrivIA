{
 "cells": [
  {
   "cell_type": "markdown",
   "metadata": {},
   "source": [
    "Class joueur : \n",
    "\n",
    "\tname\n",
    "\tCouleur camembert\n",
    "position\n",
    "points dict \n",
    "\n",
    "method\n",
    "déplacement\n",
    "mettre à jour score\n",
    "montrer score + dire si bon à la dernière question\n"
   ]
  },
  {
   "cell_type": "code",
   "execution_count": 24,
   "metadata": {},
   "outputs": [
    {
     "name": "stdout",
     "output_type": "stream",
     "text": [
      "['1', '2', '3', '4', '5', '6', '7', '8', '9', '10', '11']\n",
      "['2', 0, 0, 0, 0, '2', 0, 0, 0, 0, '2']\n",
      "['3', 0, 0, 0, 0, '3', 0, 0, 0, 0, '3']\n",
      "['4', 0, 0, 0, 0, '4', 0, 0, 0, 0, '4']\n",
      "['5', 0, 0, 0, 0, '5', 0, 0, 0, 0, '5']\n",
      "['1', '2', '3', '4', '5', '6', '7', '8', '9', '10', '11']\n",
      "['7', 0, 0, 0, 0, '7', 0, 0, 0, 0, '7']\n",
      "['8', 0, 0, 0, 0, '8', 0, 0, 0, 0, '8']\n",
      "['9', 0, 0, 0, 0, '9', 0, 0, 0, 0, '9']\n",
      "['10', 0, 0, 0, 0, '10', 0, 0, 0, 0, '10']\n",
      "['1', '2', '3', '4', '5', '6', '7', '8', '9', '10', '11']\n"
     ]
    }
   ],
   "source": [
    "# création des lignes (avec des nombres de 1 à 11)\n",
    "row = [str(i+1) for i in range(0, 11)]\n",
    "\n",
    "# création de la grille (ajout de colonnes)\n",
    "# Remove unnecessary string manipulation\n",
    "grid = [list(row) for j in range(0, 11)]\n",
    "\n",
    "# ajouter valeurs 0 \"False\" sur lesquelles on ne peut pas jouer\n",
    "for i in range(1,10): # ce range = columns\n",
    "    for index in range(1,5):\n",
    "        grid[i][index] = 0\n",
    "    for index in range(6, 10):\n",
    "        grid[i][index] = 0\n",
    "\n",
    "# dictionnaire des catégories, première lettre de chaque categ (il faudra leur attribuer des couleurs)\n",
    "categories = {1: \"P\", 2: \"S\", 3: \"G\", 4: \"T\", 5: \"A\", 6: \"M\", 7: \"A\", 8: \"T\", 9: \"G\", 10: \"S\", 11: \"P\"}\n",
    "\n",
    "for row in grid:\n",
    "    for index in range(len(row)):\n",
    "        if row[index] in categories:\n",
    "            row[index] = categories[row[index]]\n",
    "\n",
    "for row_index in range(1, len(grid) - 1):\n",
    "    grid[row_index][0] = str(row_index + 1)\n",
    "    grid[row_index][-1] = str(row_index + 1)\n",
    "    grid[row_index][5] = str(row_index + 1)\n",
    "\n",
    "grid[5] = grid[0]\n",
    "\n",
    "# Print the modified grid\n",
    "for row in grid:\n",
    "    print(row)\n",
    "    "
   ]
  },
  {
   "cell_type": "code",
   "execution_count": 22,
   "metadata": {},
   "outputs": [],
   "source": [
    "from random import *"
   ]
  },
  {
   "cell_type": "code",
   "execution_count": null,
   "metadata": {},
   "outputs": [],
   "source": [
    "class questions:\n",
    "\n",
    "    def __init__(self):\n",
    "        self.questions_reponses = {\"Qu'est-ce que la photosynthèse ?\": \"La photosynthèse est le processus par lequel les plantes convertissent la lumière en énergie chimique pour produire leur propre nourriture.\",\n",
    "    \n",
    "    \"Quelle est la capitale de la France ?\": \"La capitale de la France est Paris.\",\n",
    "    \n",
    "    \"Qu'est-ce que l'ADN ?\": \"L'ADN (acide désoxyribonucléique) est une molécule biologique qui contient les instructions génétiques nécessaires au développement et au fonctionnement des organismes vivants.\",\n",
    "    \n",
    "    \"Quel est le plus grand océan de la planète ?\": \"Le plus grand océan de la planète est l'océan Pacifique.\",\n",
    "    \n",
    "    \"Qui a écrit 'Romeo et Juliette' ?\": \"'Romeo et Juliette' a été écrit par William Shakespeare.\"\n",
    "}\n",
    "    \n",
    "        \n",
    "    def question_hasard(self):\n",
    "        pass"
   ]
  },
  {
   "cell_type": "code",
   "execution_count": 2,
   "metadata": {},
   "outputs": [],
   "source": [
    "class Player:\n",
    "    #self.position = position\n",
    "    #position_initiale = 5,5 avec la taille initiale de 11*11\n",
    "\n",
    "    def __init__(self):\n",
    "        self.name = input(\"What's your name?: \")\n",
    "        self.token = \"🦊\"\n",
    "        self.score = {self.name: 0}\n",
    "        self.x = 5\n",
    "        self.y = 5\n",
    "    \n",
    "    def roll_dice(self):\n",
    "        #cat_question = {1: \"Python\", 2: \"SQL\", 3: \"Git/Github\", 4: \"IA\", 5: \"Lignes de commande\", 6: \"Soft Skills\"}\n",
    "        dice = randint(1, 6)\n",
    "        return dice\n",
    "    \n",
    "    def choose_moove(self):\n",
    "\n",
    "        if self.y == 5 and self.x == 5:\n",
    "            choix1 = self.x + self.roll_dice()\n",
    "            choix2 = self.x - self.roll_dice()\n",
    "            choix3 = self.y + self.roll_dice()\n",
    "            choix4 = self.y - self.roll_dice()\n",
    "            position_choix = input(\"Choisissez votre déplacement: {}, {}, {} ou {}\".format(choix1,choix2, choix3, choix4))\n",
    "\n",
    "        if self.y == 5: #si le joueur est sur la ligne indice 5\n",
    "            choix1 = self.x + self.roll_dice()\n",
    "            choix2 = self.x - self.roll_dice()\n",
    "            position_choix = input(\"Choisissez votre déplacement: {} or {}\".format(choix1,choix2 ))\n",
    "            return int(position_choix)\n",
    "        \n",
    "        if self.x == 5:\n",
    "            choix1 = self.y + self.roll_dice()\n",
    "            choix2 = self.y - self.roll_dice()\n",
    "            position_choix = input(\"Choisissez votre déplacement: {} ou  {}\".format(choix1,choix2))\n",
    "            return int(position_choix)\n",
    "        \n",
    "\n",
    "    def answer_question(self):\n",
    "        pass \n",
    "    \n",
    "    def upgrade_score(self):\n",
    "        if self.answer_question:\n",
    "            self.score += 1\n",
    "    \n",
    "    def show_score(self):\n",
    "        return self.upgrade_score"
   ]
  },
  {
   "cell_type": "code",
   "execution_count": 1,
   "metadata": {},
   "outputs": [
    {
     "ename": "NameError",
     "evalue": "name 'Player' is not defined",
     "output_type": "error",
     "traceback": [
      "\u001b[0;31m---------------------------------------------------------------------------\u001b[0m",
      "\u001b[0;31mNameError\u001b[0m                                 Traceback (most recent call last)",
      "Cell \u001b[0;32mIn[1], line 1\u001b[0m\n\u001b[0;32m----> 1\u001b[0m player1 \u001b[38;5;241m=\u001b[39m \u001b[43mPlayer\u001b[49m()\n\u001b[1;32m      3\u001b[0m player1\u001b[38;5;241m.\u001b[39mroll_dice()\n",
      "\u001b[0;31mNameError\u001b[0m: name 'Player' is not defined"
     ]
    }
   ],
   "source": [
    "player1 = Player()\n",
    "\n",
    "player1.roll_dice()"
   ]
  },
  {
   "cell_type": "code",
   "execution_count": null,
   "metadata": {},
   "outputs": [],
   "source": []
  },
  {
   "cell_type": "code",
   "execution_count": null,
   "metadata": {},
   "outputs": [],
   "source": []
  }
 ],
 "metadata": {
  "kernelspec": {
   "display_name": "Python 3",
   "language": "python",
   "name": "python3"
  },
  "language_info": {
   "codemirror_mode": {
    "name": "ipython",
    "version": 3
   },
   "file_extension": ".py",
   "mimetype": "text/x-python",
   "name": "python",
   "nbconvert_exporter": "python",
   "pygments_lexer": "ipython3",
   "version": "3.11.0rc1"
  }
 },
 "nbformat": 4,
 "nbformat_minor": 2
}
