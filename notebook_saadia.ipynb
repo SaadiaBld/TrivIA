{
 "cells": [
  {
   "cell_type": "markdown",
   "metadata": {},
   "source": [
    "Class joueur : \n",
    "\n",
    "\tname\n",
    "\tCouleur camembert\n",
    "position\n",
    "points dict \n",
    "\n",
    "method\n",
    "déplacement\n",
    "mettre à jour score\n",
    "montrer score + dire si bon à la dernière question\n"
   ]
  },
  {
   "cell_type": "code",
   "execution_count": null,
   "metadata": {
    "vscode": {
     "languageId": "plaintext"
    }
   },
   "outputs": [],
   "source": [
    "class player (name, color):\n",
    "    self.name = name\n",
    "    self.color = color\n",
    "    self.position = position\n",
    "    self.points = points\n",
    "\n",
    "    def name_player():\n",
    "        self.name = input(\"What's your name?: \")\n",
    "    \n"
   ]
  }
 ],
 "metadata": {
  "language_info": {
   "name": "python"
  }
 },
 "nbformat": 4,
 "nbformat_minor": 2
}
