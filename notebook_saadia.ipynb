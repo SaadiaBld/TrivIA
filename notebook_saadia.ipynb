{
 "cells": [
  {
   "cell_type": "markdown",
   "metadata": {},
   "source": [
    "Class joueur : \n",
    "\n",
    "\tname\n",
    "\tCouleur camembert\n",
    "position\n",
    "points dict \n",
    "\n",
    "method\n",
    "déplacement\n",
    "mettre à jour score\n",
    "montrer score + dire si bon à la dernière question\n"
   ]
  },
  {
   "cell_type": "code",
   "execution_count": 1,
   "metadata": {},
   "outputs": [
    {
     "name": "stdout",
     "output_type": "stream",
     "text": [
      "['1', '2', '3', '4', '5', '6', '7', '8', '9', '10', '11']\n",
      "['2', 0, 0, 0, 0, '2', 0, 0, 0, 0, '2']\n",
      "['3', 0, 0, 0, 0, '3', 0, 0, 0, 0, '3']\n",
      "['4', 0, 0, 0, 0, '4', 0, 0, 0, 0, '4']\n",
      "['5', 0, 0, 0, 0, '5', 0, 0, 0, 0, '5']\n",
      "['1', '2', '3', '4', '5', '6', '7', '8', '9', '10', '11']\n",
      "['7', 0, 0, 0, 0, '7', 0, 0, 0, 0, '7']\n",
      "['8', 0, 0, 0, 0, '8', 0, 0, 0, 0, '8']\n",
      "['9', 0, 0, 0, 0, '9', 0, 0, 0, 0, '9']\n",
      "['10', 0, 0, 0, 0, '10', 0, 0, 0, 0, '10']\n",
      "['1', '2', '3', '4', '5', '6', '7', '8', '9', '10', '11']\n"
     ]
    }
   ],
   "source": [
    "# création des lignes (avec des nombres de 1 à 11)\n",
    "row = [str(i+1) for i in range(0, 11)]\n",
    "\n",
    "# création de la grille (ajout de colonnes)\n",
    "# Remove unnecessary string manipulation\n",
    "grid = [list(row) for j in range(0, 11)]\n",
    "\n",
    "# ajouter valeurs 0 \"False\" sur lesquelles on ne peut pas jouer\n",
    "for i in range(1,10): # ce range = columns\n",
    "    for index in range(1,5):\n",
    "        grid[i][index] = 0\n",
    "    for index in range(6, 10):\n",
    "        grid[i][index] = 0\n",
    "\n",
    "# dictionnaire des catégories, première lettre de chaque categ (il faudra leur attribuer des couleurs)\n",
    "categories = {1: \"P\", 2: \"S\", 3: \"G\", 4: \"T\", 5: \"A\", 6: \"M\", 7: \"A\", 8: \"T\", 9: \"G\", 10: \"S\", 11: \"P\"}\n",
    "\n",
    "for row in grid:\n",
    "    for index in range(len(row)):\n",
    "        if row[index] in categories:\n",
    "            row[index] = categories[row[index]]\n",
    "\n",
    "for row_index in range(1, len(grid) - 1):\n",
    "    grid[row_index][0] = str(row_index + 1)\n",
    "    grid[row_index][-1] = str(row_index + 1)\n",
    "    grid[row_index][5] = str(row_index + 1)\n",
    "\n",
    "grid[5] = grid[0]\n",
    "\n",
    "# Print the modified grid\n",
    "for row in grid:\n",
    "    print(row)\n",
    "    "
   ]
  },
  {
   "cell_type": "code",
   "execution_count": null,
   "metadata": {},
   "outputs": [],
   "source": []
  },
  {
   "cell_type": "code",
   "execution_count": null,
   "metadata": {},
   "outputs": [],
   "source": [
    "class player (name, color):\n",
    "    self.position = position\n",
    "    #position_initiale = 6,6 avec la taille initiale de 11*11\n",
    "\n",
    "    def name_player(name, color):\n",
    "        self.name = input(\"What's your name?: \")\n",
    "        self.color = color\n",
    "        self.score = {self.name: score}\n",
    "        self.x = \n",
    "        self.y = \n",
    "    \n",
    "    def roll_dice(self):\n",
    "        self.dice = random.choice(1, 6)\n",
    "\n",
    "    def choose_moove(self):\n",
    "        \n",
    "\n",
    "    def answer_question(self):\n",
    "        \n",
    "        return \n",
    "    \n",
    "    def upgrade_score(self):\n",
    "        if answer_question:\n",
    "            self.score[score] += 1\n",
    "    \n",
    "    def show_score(self):\n",
    "        return self.upgrade_score\n",
    "\n",
    "\n",
    "\n",
    "    \n",
    "\n",
    "\n",
    "\n",
    "\n",
    "    \n",
    "\n",
    "\n",
    "    \n"
   ]
  }
 ],
 "metadata": {
  "kernelspec": {
   "display_name": "Python 3",
   "language": "python",
   "name": "python3"
  },
  "language_info": {
   "codemirror_mode": {
    "name": "ipython",
    "version": 3
   },
   "file_extension": ".py",
   "mimetype": "text/x-python",
   "name": "python",
   "nbconvert_exporter": "python",
   "pygments_lexer": "ipython3",
   "version": "3.11.0rc1"
  }
 },
 "nbformat": 4,
 "nbformat_minor": 2
}
